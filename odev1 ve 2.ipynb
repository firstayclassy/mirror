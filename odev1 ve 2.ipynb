{
 "cells": [
  {
   "cell_type": "code",
   "execution_count": 1,
   "metadata": {},
   "outputs": [
    {
     "name": "stdout",
     "output_type": "stream",
     "text": [
      "Hafta başında 1000 dolarlık bitcoin aldığımızda günde ortalama %12 kazançla, bir hafta sonunda 1210.6814074060799 dolar kazanırdık\n",
      "1 hafta sonundaki toplam paramız 2210.68140740608 \n"
     ]
    }
   ],
   "source": [
    "ilk_para=1000\n",
    "gun_1=1000*0.12\n",
    "gun_2=(gun_1+1000)*0.12\n",
    "gun_3=(gun_1+gun_2+1000)*0.12\n",
    "gun_4=(gun_1+gun_2+gun_3+1000)*0.12\n",
    "gun_5=(gun_1+gun_2+gun_3+gun_4+1000)*0.12\n",
    "gun_6=(gun_1+gun_2+gun_3+gun_4+gun_5+1000)*0.12\n",
    "gun_7=(gun_1+gun_2+gun_3+gun_4+gun_5+gun_6+1000)*0.12\n",
    "toplam=gun_1+gun_2+gun_3+gun_4+gun_5+gun_6+gun_7\n",
    "karlı_para=ilk_para+toplam\n",
    "print(\"Hafta başında {} dolarlık bitcoin aldığımızda günde ortalama %12 kazançla, bir hafta sonunda {} dolar kazanırdık\" .format(ilk_para,toplam))\n",
    "print(\"1 hafta sonundaki toplam paramız {} \".format(karlı_para))\n"
   ]
  },
  {
   "cell_type": "code",
   "execution_count": null,
   "metadata": {},
   "outputs": [],
   "source": []
  }
 ],
 "metadata": {
  "kernelspec": {
   "display_name": "Python 3",
   "language": "python",
   "name": "python3"
  },
  "language_info": {
   "codemirror_mode": {
    "name": "ipython",
    "version": 3
   },
   "file_extension": ".py",
   "mimetype": "text/x-python",
   "name": "python",
   "nbconvert_exporter": "python",
   "pygments_lexer": "ipython3",
   "version": "3.7.4"
  }
 },
 "nbformat": 4,
 "nbformat_minor": 2
}
