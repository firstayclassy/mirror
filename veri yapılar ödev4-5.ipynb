{
 "cells": [
  {
   "cell_type": "code",
   "execution_count": 26,
   "metadata": {},
   "outputs": [
    {
     "name": "stdout",
     "output_type": "stream",
     "text": [
      "Kış= ['Aralık', 'Ocak', 'Şubat'] İlkbahar= ['Mart', 'Nisan', 'Mayıs'] Yaz= ['Haziran', 'Temmuz', 'Ağustos'] Sonbahar= ['Eylül', 'Ekim', 'Kasım']\n"
     ]
    }
   ],
   "source": [
    "kış = ['Aralık', 'Ocak', 'Şubat']\n",
    "ilkbahar = ['Mart', 'Nisan', 'Mayıs']\n",
    "yaz = ['Haziran', 'Temmuz','Ağustos']\n",
    "sonbahar = ['Eylül', 'Ekim', 'Kasım']\n",
    "print(\"Kış=\", kış ,\"İlkbahar=\", ilkbahar, \"Yaz=\", yaz, \"Sonbahar=\",sonbahar)"
   ]
  },
  {
   "cell_type": "code",
   "execution_count": 29,
   "metadata": {},
   "outputs": [
    {
     "name": "stdout",
     "output_type": "stream",
     "text": [
      "Yaz ayı 92 gün sürer\n"
     ]
    }
   ],
   "source": [
    "Haziran=30\n",
    "Temmuz=31\n",
    "Ağustos=31\n",
    "yaz_gün=Haziran+Temmuz+Ağustos\n",
    "print(\"Yaz ayı\",yaz_gün, \"gün sürer\")"
   ]
  },
  {
   "cell_type": "code",
   "execution_count": null,
   "metadata": {},
   "outputs": [],
   "source": []
  }
 ],
 "metadata": {
  "kernelspec": {
   "display_name": "Python 3",
   "language": "python",
   "name": "python3"
  },
  "language_info": {
   "codemirror_mode": {
    "name": "ipython",
    "version": 3
   },
   "file_extension": ".py",
   "mimetype": "text/x-python",
   "name": "python",
   "nbconvert_exporter": "python",
   "pygments_lexer": "ipython3",
   "version": "3.7.4"
  }
 },
 "nbformat": 4,
 "nbformat_minor": 2
}
