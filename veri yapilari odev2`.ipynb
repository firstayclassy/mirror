{
 "cells": [
  {
   "cell_type": "code",
   "execution_count": 1,
   "metadata": {},
   "outputs": [
    {
     "name": "stdout",
     "output_type": "stream",
     "text": [
      "['Ocak', '31', 'Şubat', '31', 'Mart', '31', 'Nisan', '31', 'Mayıs', '31', 'Haziran', '31', 'Temmuz', '31', 'Ağustos', '31', 'Eylül', '31', 'Ekim', '31', 'Kasım', '31', 'Aralık', '31']\n"
     ]
    }
   ],
   "source": [
    "Aylar = ['Ocak', 'Şubat', 'Mart', 'Nisan', 'Mayıs', 'Haziran', 'Temmuz', \n",
    "         'Ağustos', 'Eylül', 'Ekim', 'Kasım', 'Aralık']\n",
    "\n",
    "Aylar.insert(1, '31')\n",
    "Aylar.insert(3, '31')\n",
    "Aylar.insert(5, '31')\n",
    "Aylar.insert(7, '31')\n",
    "Aylar.insert(9, '31')\n",
    "Aylar.insert(11, '31')\n",
    "Aylar.insert(13, '31')\n",
    "Aylar.insert(15, '31')\n",
    "Aylar.insert(17, '31')\n",
    "Aylar.insert(19, '31')\n",
    "Aylar.insert(21, '31')\n",
    "Aylar.insert(23, '31')\n",
    "\n",
    "print(Aylar)"
   ]
  },
  {
   "cell_type": "code",
   "execution_count": null,
   "metadata": {},
   "outputs": [],
   "source": []
  }
 ],
 "metadata": {
  "kernelspec": {
   "display_name": "Python 3",
   "language": "python",
   "name": "python3"
  },
  "language_info": {
   "codemirror_mode": {
    "name": "ipython",
    "version": 3
   },
   "file_extension": ".py",
   "mimetype": "text/x-python",
   "name": "python",
   "nbconvert_exporter": "python",
   "pygments_lexer": "ipython3",
   "version": "3.7.4"
  }
 },
 "nbformat": 4,
 "nbformat_minor": 2
}
