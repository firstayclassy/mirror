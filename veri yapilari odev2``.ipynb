{
 "cells": [
  {
   "cell_type": "code",
   "execution_count": 1,
   "metadata": {},
   "outputs": [
    {
     "name": "stdout",
     "output_type": "stream",
     "text": [
      "['Ocak', '31'] ['Şubat', '28'] ['Mart', '31'] ['Nisan', '30'] ['Mayıs', '31'] ['Haziran', '30'] ['Temmuz', '31'] ['Ağustos', '31'] ['Eylül', '30'] ['Ekim', '31'] ['Kasım', '30']\n"
     ]
    }
   ],
   "source": [
    "a = ['Ocak', 'Şubat', 'Mart', 'Nisan', 'Mayıs', 'Haziran', 'Temmuz', \n",
    "         'Ağustos', 'Eylül', 'Ekim', 'Kasım', 'Aralık','31','28','31','30','31','30','31','31','30','31','30','31']\n",
    "\n",
    "\n",
    "c = [a[0]] + [a[12]]\n",
    "d = [a[1]] + [a[13]]\n",
    "e = [a[2]] + [a[14]]\n",
    "f = [a[3]] + [a[15]]\n",
    "g = [a[4]] + [a[16]]\n",
    "h = [a[5]] + [a[17]]\n",
    "j = [a[6]] + [a[18]]\n",
    "k = [a[7]] + [a[19]]\n",
    "l = [a[8]] + [a[20]]\n",
    "m = [a[9]] + [a[21]]\n",
    "n = [a[10]] + [a[22]]\n",
    "\n",
    "\n",
    "print (c,d,e,f,g,h,j,k,l,m,n)"
   ]
  },
  {
   "cell_type": "code",
   "execution_count": null,
   "metadata": {},
   "outputs": [],
   "source": []
  },
  {
   "cell_type": "code",
   "execution_count": null,
   "metadata": {},
   "outputs": [],
   "source": []
  }
 ],
 "metadata": {
  "kernelspec": {
   "display_name": "Python 3",
   "language": "python",
   "name": "python3"
  },
  "language_info": {
   "codemirror_mode": {
    "name": "ipython",
    "version": 3
   },
   "file_extension": ".py",
   "mimetype": "text/x-python",
   "name": "python",
   "nbconvert_exporter": "python",
   "pygments_lexer": "ipython3",
   "version": "3.7.4"
  }
 },
 "nbformat": 4,
 "nbformat_minor": 2
}
